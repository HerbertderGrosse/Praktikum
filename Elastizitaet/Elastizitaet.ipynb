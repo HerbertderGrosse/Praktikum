{
 "cells": [
  {
   "cell_type": "markdown",
   "id": "885c7767-e912-4e31-b5d6-3a3443ffa58e",
   "metadata": {},
   "source": [
    "# Fakultät für Physik\n",
    "\n",
    "## Physikalisches Praktikum P1 für Studierende der Physik\n",
    "\n",
    "Versuch P1-11, 12, 13 (Stand: Oktober 2023)\n",
    "\n",
    "[Raum F1-19](https://labs.physik.kit.edu/img/Praktikum/Lageplan_P1.png)\n",
    "\n",
    "\n",
    "\n",
    "# Elastizität"
   ]
  },
  {
   "cell_type": "markdown",
   "id": "02723acd-b4da-43cb-8534-d52f27e5e556",
   "metadata": {},
   "source": [
    "Name: __________________ Vorname: __________________ E-Mail: __________________\n",
    "\n",
    "\\begin{equation*}\n",
    "\\begin{split}\n",
    "&\\\\\n",
    "&\\\\\n",
    "\\end{split}\n",
    "\\end{equation*}\n",
    "\n",
    "Name: __________________ Vorname: __________________ E-Mail: __________________\n",
    "\n",
    "\\begin{equation*}\n",
    "\\begin{split}\n",
    "&\\\\\n",
    "&\\\\\n",
    "&\\\\\n",
    "\\end{split}\n",
    "\\end{equation*}\n",
    "\n",
    "Gruppennummer: _____\n",
    "\n",
    "\\begin{equation*}\n",
    "\\begin{split}\n",
    "&\\\\\n",
    "&\\\\\n",
    "&\\\\\n",
    "\\end{split}\n",
    "\\end{equation*}\n",
    "\n",
    "\n",
    "Betreuer: __________________\n",
    "\n",
    "\\begin{equation*}\n",
    "\\begin{split}\n",
    "&\\\\\n",
    "&\\\\\n",
    "&\\\\\n",
    "\\end{split}\n",
    "\\end{equation*}\n",
    "\n",
    "Versuch durchgeführt am: __________________"
   ]
  },
  {
   "cell_type": "markdown",
   "id": "bd1ced8c-5364-400f-b2ab-cd86a81d5eda",
   "metadata": {},
   "source": [
    "---\n",
    "\n",
    "**Beanstandungen:**\n",
    "\n",
    "\\begin{equation*}\n",
    "\\begin{split}\n",
    "&\\\\\n",
    "&\\\\\n",
    "&\\\\\n",
    "&\\\\\n",
    "&\\\\\n",
    "&\\\\\n",
    "&\\\\\n",
    "&\\\\\n",
    "&\\\\\n",
    "&\\\\\n",
    "\\end{split}\n",
    "%\\text{\\vspace{10cm}}\n",
    "\\end{equation*}\n",
    "\n",
    "<br>\n",
    "Testiert am: __________________ Testat: __________________"
   ]
  },
  {
   "cell_type": "markdown",
   "id": "305b8433-7bc6-4a3c-b0e6-fa5c8955849a",
   "metadata": {},
   "source": [
    "# Durchführung\n",
    "\n",
    "## Aufgabe 1: Elastizitätsmodul aus der Biegung flacher Stäbe\n",
    "\n",
    "Bei diesem Versuchsteil bestimmen Sie für einige Stoffe den Elastizitätsmodul $E$ aus der Biegung zweiseitig aufgelagerter\n",
    "und in der Mitte belasteter flacher Stäbe. Hierzu stehen Ihnen fünf Materialien zur Verfügung: \n",
    "\n",
    " * Kupfer,\n",
    " * Aluminium,\n",
    " * Edelstahl,\n",
    " * Messing,\n",
    " * PVC.\n",
    "\n",
    "### Aufgabe 1.1: Messuhr\n",
    "\n",
    "Bestimmen Sie $E$ aus der Biegung $s$ des Stabs als Funktion der Kraft $F_{g}$ angehängter Gewichte mit einer Messuhr. Für $s$ gilt der zusammenhang\n",
    "\n",
    "$$\n",
    "s(F_{g}) = \\frac{L^{3}\\,F_{g}}{4E\\,b\\,d^{3}},\n",
    "$$\n",
    "\n",
    "wobei dem Abstand zwischen den beiden Auflagepunkten des jeweiligen Stabs, $b$ der Breite und $d$ der Dicke des Stabs entsprechen. Berücksichtigen Sie für Ihre Messung, dass die Messuhren eine zusätzliche Kraft von $3,6\\,\\mathrm{g/mm}$ auf den jeweiligen Stab ausüben.\n",
    "\n",
    "---"
   ]
  },
  {
   "cell_type": "markdown",
   "id": "375bc285-33cc-43cc-bf8f-9247c1431ae4",
   "metadata": {},
   "source": [
    "**Lösung:**\n",
    "\n",
    "*Sie können Ihr Protokoll direkt in dieses Dokument einfügen. Wenn Sie dieses Dokument als Grundlage für ein [Jupyter notebook](https://jupyter.org/) verwenden wollen können Sie die Auswertung, Skripte und ggf. bildliche Darstellungen mit Hilfe von [python](https://www.python.org/) ebenfalls hier einfügen. Löschen Sie hierzu diesen kursiv gestellten Text aus dem Dokument.* \n",
    "\n",
    "---"
   ]
  },
  {
   "cell_type": "markdown",
   "id": "20887c3e-9c2e-4cf2-918e-c6091ec8f900",
   "metadata": {},
   "source": [
    "### Aufgabe 1.2: Spiegelsystem\n",
    "\n",
    "Für diesen Aufgabenteil bestimmen Sie die Biegung des Stabs aus der zusätzlichen Neigung $\\alpha$ der Stabenden bei Belastung, mit Hilfe zweier Spiegel, die nahe den Stabenden leicht gegeneinander geneigt montiert sind. Über die Spiegel wird ein punktförmiger Laserstrahl auf einen entfernten Schirm geführt. Aus der Verschiebung $\\delta$ der Strahlposition mit und ohne Belastung kann $\\alpha$ nach der Formel \n",
    "\n",
    "$$\n",
    "\\alpha(F_{g}) = \\frac{3L^{2}\\,F_{g}}{4E\\,b\\,d^{3}}\n",
    "$$\n",
    "\n",
    "berechnet werden.\n",
    "\n",
    "---"
   ]
  },
  {
   "cell_type": "markdown",
   "id": "4ff10d07-87d1-4a2a-a7ef-a7014dc727b6",
   "metadata": {},
   "source": [
    "**Lösung:**\n",
    "\n",
    "*Sie können Ihr Protokoll direkt in dieses Dokument einfügen. Wenn Sie dieses Dokument als Grundlage für ein [Jupyter notebook](https://jupyter.org/) verwenden wollen können Sie die Auswertung, Skripte und ggf. bildliche Darstellungen mit Hilfe von [python](https://www.python.org/) ebenfalls hier einfügen. Löschen Sie hierzu diesen kursiv gestellten Text aus dem Dokument.* \n",
    "\n",
    "---"
   ]
  },
  {
   "cell_type": "markdown",
   "id": "97b7053b-f7c8-471f-bd76-01bb183198e0",
   "metadata": {},
   "source": [
    "## Aufgabe 2: Elastizitätsmodul aus der Schallgeschwindigkeit \n",
    "\n",
    "In diesem Versuchsteil bestimmen Sie die Zeit $\\Delta t$, die ein Verdichtungsstoß (axiales Anschlagen einer Pendelkugel am Stabende) benötigt, um mehrfach im Stab der Länge $L$ hin- und herzulaufen, wobei die entstehende Welle jeweils an den freien Stabenden reflektiert wird. Die Schallsignale am erregerfernen Stabende werden mit Hilfe eines Piezokristalls in Spannungspulse umgewandelt und mit einem Oszilloskop aufgenommen.\n",
    "\n",
    "Bestimmen Sie die Zeitdifferenzen $\\Delta t$ zu möglichst vielen Reflektionen und ermitteln Sie die Schallgeschwindigkeit $v_{\\mathrm{ph}}$ als Steigung der resultierenden Geraden. Beachten Sie, dass es bei jeder Messung nötig ist, in einem Vorversuch zunächst etwa die Mitte jenes Bereichs der Anschlagstärke zu suchen, in dem die Ergebnisse für $\\Delta t$ reproduzierbar sind. Störsignale, z.B. von unvermeidlichen andersartigen Anregungsmoden sind im Oszilloskopbild gut vom Hauptschwingungsmodus unterscheidbar. Lediglich bei PVC wird das\n",
    "Signal so schnell gedämpft, dass nur wenige Reflektionen messbar sind.\n",
    "\n",
    "**Achtung:** Der Piezodetektor verträgt wegen der leicht aufbrechenden Klebungen keine harten Stöße. Die Pendelkugel darf daher aus höchstens 8cm Entfernung vom Stabende losgelassen werden.\n",
    "\n",
    "---"
   ]
  },
  {
   "cell_type": "markdown",
   "id": "c81ae931-21c9-4eff-bb7b-259cf64b3c5e",
   "metadata": {},
   "source": [
    "**Lösung:**\n",
    "\n",
    "*Sie können Ihr Protokoll direkt in dieses Dokument einfügen. Wenn Sie dieses Dokument als Grundlage für ein [Jupyter notebook](https://jupyter.org/) verwenden wollen können Sie die Auswertung, Skripte und ggf. bildliche Darstellungen mit Hilfe von [python](https://www.python.org/) ebenfalls hier einfügen. Löschen Sie hierzu diesen kursiv gestellten Text aus dem Dokument.* \n",
    "\n",
    "---"
   ]
  },
  {
   "cell_type": "markdown",
   "id": "66f60b58-6aac-4a8b-bb6a-adad17f3c95a",
   "metadata": {},
   "source": [
    "## Aufgabe 3: Torsionsmodul\n",
    "\n",
    "Bestimmen Sie für wenigstens einen der zur Verfügung stehenden Stoffe den Schubmodul $G$ aus der Schwingungsdauer $T$ von\n",
    "Torsionsschwingungen. \n",
    "\n",
    "Hierzu ist ein zylindrischer Stab aus dem zu untersuchenden Stoff jeweils am oberen Ende fest eingespannt und trägt am unteren Ende eine Drehscheibe. Die Drehscheibe wird um einen kleinen Winkel ausgelenkt und führt, nachdem sie ihn loslassen, Drehschwingungen aus. Verwenden Sie die Scheibe ohne, mit zwei und mit vier Zusatzmassen. Bestimmen Sie aus den zugehörigen Schwingungsdauern sowie den berechenbaren Zusatzträgheitsmomenten das Trägheitsmoment der Scheibe.\n",
    "\n",
    " ---"
   ]
  },
  {
   "cell_type": "markdown",
   "id": "150973f7-01c7-40e7-b99a-8ccd437ea3c5",
   "metadata": {},
   "source": [
    "**Lösung:**\n",
    "\n",
    "*Sie können Ihr Protokoll direkt in dieses Dokument einfügen. Wenn Sie dieses Dokument als Grundlage für ein [Jupyter notebook](https://jupyter.org/) verwenden wollen können Sie die Auswertung, Skripte und ggf. bildliche Darstellungen mit Hilfe von [python](https://www.python.org/) ebenfalls hier einfügen. Löschen Sie hierzu diesen kursiv gestellten Text aus dem Dokument.* \n",
    "\n",
    "---"
   ]
  }
 ],
 "metadata": {
  "kernelspec": {
   "display_name": "Python 3 (ipykernel)",
   "language": "python",
   "name": "python3"
  },
  "language_info": {
   "codemirror_mode": {
    "name": "ipython",
    "version": 3
   },
   "file_extension": ".py",
   "mimetype": "text/x-python",
   "name": "python",
   "nbconvert_exporter": "python",
   "pygments_lexer": "ipython3",
   "version": "3.10.12"
  }
 },
 "nbformat": 4,
 "nbformat_minor": 5
}
