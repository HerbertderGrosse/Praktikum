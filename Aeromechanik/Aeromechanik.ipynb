{
 "cells": [
  {
   "cell_type": "markdown",
   "id": "885c7767-e912-4e31-b5d6-3a3443ffa58e",
   "metadata": {},
   "source": [
    "# Fakultät für Physik\n",
    "\n",
    "## Physikalisches Praktikum P1 für Studierende der Physik\n",
    "\n",
    "Versuch P1-23, 24, 25 (Stand: Oktober 2023)\n",
    "\n",
    "[Raum F1-10](https://labs.physik.kit.edu/img/Praktikum/Lageplan_P1.png)\n",
    "\n",
    "\n",
    "\n",
    "# Aeromechanik"
   ]
  },
  {
   "cell_type": "markdown",
   "id": "02723acd-b4da-43cb-8534-d52f27e5e556",
   "metadata": {},
   "source": [
    "Name: __________________ Vorname: __________________ E-Mail: __________________\n",
    "\n",
    "\\begin{equation*}\n",
    "\\begin{split}\n",
    "&\\\\\n",
    "&\\\\\n",
    "\\end{split}\n",
    "\\end{equation*}\n",
    "\n",
    "Name: __________________ Vorname: __________________ E-Mail: __________________\n",
    "\n",
    "\\begin{equation*}\n",
    "\\begin{split}\n",
    "&\\\\\n",
    "&\\\\\n",
    "&\\\\\n",
    "\\end{split}\n",
    "\\end{equation*}\n",
    "\n",
    "Gruppennummer: _____\n",
    "\n",
    "\\begin{equation*}\n",
    "\\begin{split}\n",
    "&\\\\\n",
    "&\\\\\n",
    "&\\\\\n",
    "\\end{split}\n",
    "\\end{equation*}\n",
    "\n",
    "\n",
    "Betreuer: __________________\n",
    "\n",
    "\\begin{equation*}\n",
    "\\begin{split}\n",
    "&\\\\\n",
    "&\\\\\n",
    "&\\\\\n",
    "\\end{split}\n",
    "\\end{equation*}\n",
    "\n",
    "Versuch durchgeführt am: __________________"
   ]
  },
  {
   "cell_type": "markdown",
   "id": "bd1ced8c-5364-400f-b2ab-cd86a81d5eda",
   "metadata": {},
   "source": [
    "---\n",
    "\n",
    "**Beanstandungen:**\n",
    "\n",
    "\\begin{equation*}\n",
    "\\begin{split}\n",
    "&\\\\\n",
    "&\\\\\n",
    "&\\\\\n",
    "&\\\\\n",
    "&\\\\\n",
    "&\\\\\n",
    "&\\\\\n",
    "&\\\\\n",
    "&\\\\\n",
    "&\\\\\n",
    "\\end{split}\n",
    "%\\text{\\vspace{10cm}}\n",
    "\\end{equation*}\n",
    "\n",
    "<br>\n",
    "Testiert am: __________________ Testat: __________________"
   ]
  },
  {
   "cell_type": "markdown",
   "id": "305b8433-7bc6-4a3c-b0e6-fa5c8955849a",
   "metadata": {},
   "source": [
    "# Durchführung\n",
    "\n",
    "\n",
    "## Aufgabe 1: Messmethoden \n",
    "\n",
    "Bei dieser Aufgabe handelt es sich um Demonstrationsversuche. Sie dienen der Verdeutlichung des Druck-Geschwindigkeits-Gesetzes, sowie der verwendeten Messmethoden. \n",
    "\n",
    "### Aufgabe 1.1: Dynamischer Druck\n",
    "\n",
    "Halten Sie eine Rohrsonde parallel zur Strömungsrichtung in den Luftstrom und beobachten Sie die Feinmanometeranzeige bei den Motordrehzahlen $2600\\,\\mathrm{U/min}$ und $1600\\,\\mathrm{U/min}$. Drehen Sie jetzt die Rohrsonde so, dass sie senkrecht zur Strömungsrichtung steht. Was beobachten Sie am Manometer?\n",
    "\n",
    "Verwenden Sie jetzt die Scheibensonde: richten Sie deren Rohr wie oben parallel und senkrecht zur Strömungsrichtung aus. Vergleichen Sie das Ergebnis mit dem der Rohrsonde. Diskutieren Sie, welchen Druck Sie mit welcher Methode jeweils messen. Schließen Sie daraus auf geeignete Messmethoden für statischen Druck, Gesamtdruck und dynamischen Druck.\n",
    "\n",
    "---"
   ]
  },
  {
   "cell_type": "markdown",
   "id": "375bc285-33cc-43cc-bf8f-9247c1431ae4",
   "metadata": {},
   "source": [
    "**Lösung:**\n",
    "\n",
    "*Sie können Ihr Protokoll direkt in dieses Dokument einfügen. Wenn Sie dieses Dokument als Grundlage für ein [Jupyter notebook](https://jupyter.org/) verwenden wollen können Sie die Auswertung, Skripte und ggf. bildliche Darstellungen mit Hilfe von [python](https://www.python.org/) ebenfalls hier einfügen. Löschen Sie hierzu diesen kursiv gestellten Text aus dem Dokument.* \n",
    "\n",
    "---"
   ]
  },
  {
   "cell_type": "markdown",
   "id": "20887c3e-9c2e-4cf2-918e-c6091ec8f900",
   "metadata": {},
   "source": [
    "### Aufgabe 1.2: Venturirohr\n",
    "\n",
    "Messen und skizzieren Sie den Verlauf des statischen Drucks und beobachten Sie den Gesamtdruck längs der Strömung im Venturirohr. Vergleichen Sie mit ihren Erwartungen. Sie müssen aufgrund der Geometrie beim Messen mit Abweichungen von Ihrer Erwartung rechnen.\n",
    "\n",
    "---"
   ]
  },
  {
   "cell_type": "markdown",
   "id": "4ff10d07-87d1-4a2a-a7ef-a7014dc727b6",
   "metadata": {},
   "source": [
    "**Lösung:**\n",
    "\n",
    "*Sie können Ihr Protokoll direkt in dieses Dokument einfügen. Wenn Sie dieses Dokument als Grundlage für ein [Jupyter notebook](https://jupyter.org/) verwenden wollen können Sie die Auswertung, Skripte und ggf. bildliche Darstellungen mit Hilfe von [python](https://www.python.org/) ebenfalls hier einfügen. Löschen Sie hierzu diesen kursiv gestellten Text aus dem Dokument.* \n",
    "\n",
    "---"
   ]
  },
  {
   "cell_type": "markdown",
   "id": "97b7053b-f7c8-471f-bd76-01bb183198e0",
   "metadata": {},
   "source": [
    "### Aufgabe 1.3: Aerodynamisches Paradoxon \n",
    "\n",
    "Lassen Sie Druckluft axial zentrisch zwischen zwei eng aneinanderliegenden Kreisscheiben einströmen so dass sie radial nach außen entweicht. Erklären Sie das Ergebnis.\n",
    "\n",
    "---"
   ]
  },
  {
   "cell_type": "markdown",
   "id": "c81ae931-21c9-4eff-bb7b-259cf64b3c5e",
   "metadata": {},
   "source": [
    "**Lösung:**\n",
    "\n",
    "*Sie können Ihr Protokoll direkt in dieses Dokument einfügen. Wenn Sie dieses Dokument als Grundlage für ein [Jupyter notebook](https://jupyter.org/) verwenden wollen können Sie die Auswertung, Skripte und ggf. bildliche Darstellungen mit Hilfe von [python](https://www.python.org/) ebenfalls hier einfügen. Löschen Sie hierzu diesen kursiv gestellten Text aus dem Dokument.* \n",
    "\n",
    "---"
   ]
  },
  {
   "cell_type": "markdown",
   "id": "66f60b58-6aac-4a8b-bb6a-adad17f3c95a",
   "metadata": {},
   "source": [
    "## Aufgabe 2: Messaufbau \n",
    "\n",
    "### Aufgabe 2.1: Ortsunabhängigkeit der Geschwindigkeit des Luftstroms \n",
    "\n",
    "Messen Sie den Staudruck $p_{d}$ (dynamischer Druck) an verschiedenen Orten im Luftstrom. Überzeugen Sie sich davon, dass die Geschwindigkeit des Luftstroms für die folgenden Versuche ausreichend ortsunabhängig ist. Geben Sie die Grenzen dafür an und legen Sie den Ort für die umströmten Körper für die folgenden Versuche fest. Stellen Sie den Verlauf des Staudrucks graphisch dar (z.b. $l = 10,\\,20,\\,30,\\,35\\,\\mathrm{cm}$ vom Düsenrand entfernt; $\\Delta r = 1.0\\,\\mathrm{cm}$; $0\\leq r\\leq5\\,\\mathrm{cm}$; Drehzahl: $2600\\,\\mathrm{U/min}$).\n",
    "\n",
    "---"
   ]
  },
  {
   "cell_type": "markdown",
   "id": "150973f7-01c7-40e7-b99a-8ccd437ea3c5",
   "metadata": {},
   "source": [
    "**Lösung:**\n",
    "\n",
    "*Sie können Ihr Protokoll direkt in dieses Dokument einfügen. Wenn Sie dieses Dokument als Grundlage für ein [Jupyter notebook](https://jupyter.org/) verwenden wollen können Sie die Auswertung, Skripte und ggf. bildliche Darstellungen mit Hilfe von [python](https://www.python.org/) ebenfalls hier einfügen. Löschen Sie hierzu diesen kursiv gestellten Text aus dem Dokument.* \n",
    "\n",
    "---"
   ]
  },
  {
   "cell_type": "markdown",
   "id": "d3dda936-f113-45ca-87bf-3bfe51644ad7",
   "metadata": {},
   "source": [
    "### Aufgabe 2.2: Geschwindigkeit des Luftstroms als Funktion der Drehzahl \n",
    "\n",
    "Für einige der folgenden Aufgaben ist es notwendig, die Windgeschwindigkeit $v$ in Abhängigkeit von der Drehzahl ($> 600\\,\\mathrm{U/min}$) zu kennen. Messen Sie diese am vorher festgelegten Ort.\n",
    "\n",
    "---"
   ]
  },
  {
   "cell_type": "markdown",
   "id": "24056bff-8dbb-4acd-a03e-1bf6c3f5a1f0",
   "metadata": {},
   "source": [
    "**Lösung:**\n",
    "\n",
    "*Sie können Ihr Protokoll direkt in dieses Dokument einfügen. Wenn Sie dieses Dokument als Grundlage für ein [Jupyter notebook](https://jupyter.org/) verwenden wollen können Sie die Auswertung, Skripte und ggf. bildliche Darstellungen mit Hilfe von [python](https://www.python.org/) ebenfalls hier einfügen. Löschen Sie hierzu diesen kursiv gestellten Text aus dem Dokument.* \n",
    "\n",
    "---"
   ]
  },
  {
   "cell_type": "markdown",
   "id": "b4758697-b501-45da-a365-05d90a0e0c26",
   "metadata": {},
   "source": [
    "## Aufgabe 3: Strömungswiderstand\n",
    "\n",
    "### Aufgabe 3.1: Rücktrieb und Stirnfläche \n",
    "\n",
    "Messen Sie bei konstanter Strömungsgeschwindigkeit (für $2600\\,\\mathrm{U/min}$) den Strömungswiderstand der drei Kreisscheiben sowie des Haltestiels. Korrigieren Sie die Werte und setzen Sie diese zu den jeweiligen Flächen ins Verhältnis. Welche Folgerungen können Sie aus dieser Messung ziehen?\n",
    "\n",
    "---"
   ]
  },
  {
   "cell_type": "markdown",
   "id": "6cf16b2f-c166-41dd-a08c-d46a3c21f527",
   "metadata": {},
   "source": [
    "**Lösung:**\n",
    "\n",
    "*Sie können Ihr Protokoll direkt in dieses Dokument einfügen. Wenn Sie dieses Dokument als Grundlage für ein [Jupyter notebook](https://jupyter.org/) verwenden wollen können Sie die Auswertung, Skripte und ggf. bildliche Darstellungen mit Hilfe von [python](https://www.python.org/) ebenfalls hier einfügen. Löschen Sie hierzu diesen kursiv gestellten Text aus dem Dokument.* \n",
    "\n",
    "---"
   ]
  },
  {
   "cell_type": "markdown",
   "id": "615aac0f-25ed-4fb8-9a5c-77c11c6c1036",
   "metadata": {},
   "source": [
    "### Aufgabe 3.2: Rücktrieb und Strömungsgeschwindigkeit: \n",
    "\n",
    "Messen Sie bei zwei Kreisscheiben den Strömungswiderstand in Abhängigkeit von der Windgeschwindigkeit (Staudruck $p_{d}$). Tragen Sie den Widerstand über $p_{d}$ auf und schließen Sie auf die Form der Abhängigkeit (Drehzahlen wie für **Aufgabe 1.2**).\n",
    "\n",
    "---"
   ]
  },
  {
   "cell_type": "markdown",
   "id": "8eaa1938-1347-4d76-abad-e1646d094359",
   "metadata": {},
   "source": [
    "**Lösung:**\n",
    "\n",
    "*Sie können Ihr Protokoll direkt in dieses Dokument einfügen. Wenn Sie dieses Dokument als Grundlage für ein [Jupyter notebook](https://jupyter.org/) verwenden wollen können Sie die Auswertung, Skripte und ggf. bildliche Darstellungen mit Hilfe von [python](https://www.python.org/) ebenfalls hier einfügen. Löschen Sie hierzu diesen kursiv gestellten Text aus dem Dokument.* \n",
    "\n",
    "---"
   ]
  },
  {
   "cell_type": "markdown",
   "id": "44dd4e62-90df-4b5d-83f5-7564c1b22df9",
   "metadata": {},
   "source": [
    "### Aufgabe 3.3: Rücktrieb und Körperform \n",
    "\n",
    "Messen Sie bei konstanter Drehzahl den Strömungswiderstand der rotationssymmetrischen Widerstandskörper (Kugel, Halbkugel, Stromlinienkörper glatt) in beiden Richtungen. Stellen Sie nun die Widerstandsformel zusammen und bestimmen Sie die Widerstandsbeiwerte $c_{w}$ der Widerstandskörper. Diskutieren Sie das Ergebnis und vergleichen Sie mit Tabellenwerten.\n",
    "\n",
    "---"
   ]
  },
  {
   "cell_type": "markdown",
   "id": "3c46aa34-239d-4171-8976-89f59c470745",
   "metadata": {},
   "source": [
    "**Lösung:**\n",
    "\n",
    "*Sie können Ihr Protokoll direkt in dieses Dokument einfügen. Wenn Sie dieses Dokument als Grundlage für ein [Jupyter notebook](https://jupyter.org/) verwenden wollen können Sie die Auswertung, Skripte und ggf. bildliche Darstellungen mit Hilfe von [python](https://www.python.org/) ebenfalls hier einfügen. Löschen Sie hierzu diesen kursiv gestellten Text aus dem Dokument.* \n",
    "\n",
    "---"
   ]
  },
  {
   "cell_type": "markdown",
   "id": "484da8ed-05c5-4df3-bf85-d5e1750fef38",
   "metadata": {},
   "source": [
    "### Aufgabe 3.4: $c_{w}$-Wert eines Modellautos \n",
    "\n",
    "Bestimmen Sie den $c_{w}$-Wert eines Modellautos. Sie können auch ein eigenes Modell mitbringen, die Stellfläche beträgt ungefähr $8\\times10\\,\\mathrm{cm^{2}}$.\n",
    "\n",
    "---"
   ]
  },
  {
   "cell_type": "markdown",
   "id": "d57fa648-cf4a-43ce-8ad7-c79ca0685efb",
   "metadata": {},
   "source": [
    "**Lösung:**\n",
    "\n",
    "*Sie können Ihr Protokoll direkt in dieses Dokument einfügen. Wenn Sie dieses Dokument als Grundlage für ein [Jupyter notebook](https://jupyter.org/) verwenden wollen können Sie die Auswertung, Skripte und ggf. bildliche Darstellungen mit Hilfe von [python](https://www.python.org/) ebenfalls hier einfügen. Löschen Sie hierzu diesen kursiv gestellten Text aus dem Dokument.* \n",
    "\n",
    "---"
   ]
  },
  {
   "cell_type": "markdown",
   "id": "a81eea90-0a30-4aa0-b07e-1b9c7acc6caa",
   "metadata": {},
   "source": [
    "## Aufgabe 4: \n",
    "\n",
    "Nachdem die Faktoren bekannt sind, die den schädlichen Widerstand beeinflussen, wenden Sie sich dem Aufbau und der Wirkungsweise eines Tragflügels zu. Installieren Sie die Auftriebswaage und den Treibflügel gemäß der Gebrauchsanweisung.\n",
    "\n",
    "### Aufgabe 4.1: Polardiagramm\n",
    "\n",
    "Messen Sie bei konstanter Windgeschwindigkeit ($2600\\,\\mathrm{U/min}$) den Auftrieb und den Strömungswiderstand in Abhängigkeit vom Anstellwinkel $\\alpha$ (in Schritten von $\\Delta\\alpha = 5^{\\circ}$ in einem bereich von $-20^{\\circ}\\leq\\alpha\\leq20^{\\circ}$). Tragen Sie den Widerstand und den Auftrieb als Funktion von $\\alpha$, und die Auftriebswerte über dem Widerstand (in einem Polardiagramm) auf. Bestimmen Sie die günstigste Gleitzahl als reziproke Steigung aus dem Polardiagramm. Welcher Gleitwinkel ergibt sich daraus? Diskutieren Sie die Bedeutung dieser Größe. Was sollte zur Verbesserung der Flugeigenschaften unternommen werden?\n",
    "\n",
    "---"
   ]
  },
  {
   "cell_type": "markdown",
   "id": "946253e8-b996-42c3-8770-ea7140004ef2",
   "metadata": {},
   "source": [
    "**Lösung:**\n",
    "\n",
    "*Sie können Ihr Protokoll direkt in dieses Dokument einfügen. Wenn Sie dieses Dokument als Grundlage für ein [Jupyter notebook](https://jupyter.org/) verwenden wollen können Sie die Auswertung, Skripte und ggf. bildliche Darstellungen mit Hilfe von [python](https://www.python.org/) ebenfalls hier einfügen. Löschen Sie hierzu diesen kursiv gestellten Text aus dem Dokument.* \n",
    "\n",
    "---"
   ]
  },
  {
   "cell_type": "markdown",
   "id": "6f4aa669-45c2-4ee5-84ca-adcaa1b9dd56",
   "metadata": {},
   "source": [
    "### Aufgabe 4.2: Druckprofil\n",
    "\n",
    "Messen Sie bei konstanter Geschwindigkeit des Luftstroms den Druck an den Messstellen des Tragflächenmodells in Abhängigkeit von $\\alpha$. Zeichnen Sie der Anschaulichkeit wegen in Querschnittskizzen der Tragfläche bei einigen Anstellwinkeln die 'Druckvektoren' an den Messstellen ein. Der Druck ist eine skalare Größe; welche Richtung ist gemeint? Schließen Sie auf den Auftrieb. Erklären Sie mit Hilfe der Ergebnisse aus **Aufgabe 3.1** und **3.2** die Wirkungsweise einer Tragfläche.\n",
    "\n",
    "---"
   ]
  },
  {
   "cell_type": "markdown",
   "id": "755cdc69-7c8a-4574-9950-15f6dea1478c",
   "metadata": {},
   "source": [
    "**Lösung:**\n",
    "\n",
    "*Sie können Ihr Protokoll direkt in dieses Dokument einfügen. Wenn Sie dieses Dokument als Grundlage für ein [Jupyter notebook](https://jupyter.org/) verwenden wollen können Sie die Auswertung, Skripte und ggf. bildliche Darstellungen mit Hilfe von [python](https://www.python.org/) ebenfalls hier einfügen. Löschen Sie hierzu diesen kursiv gestellten Text aus dem Dokument.* \n",
    "\n",
    "---"
   ]
  }
 ],
 "metadata": {
  "kernelspec": {
   "display_name": "Python 3 (ipykernel)",
   "language": "python",
   "name": "python3"
  },
  "language_info": {
   "codemirror_mode": {
    "name": "ipython",
    "version": 3
   },
   "file_extension": ".py",
   "mimetype": "text/x-python",
   "name": "python",
   "nbconvert_exporter": "python",
   "pygments_lexer": "ipython3",
   "version": "3.10.12"
  }
 },
 "nbformat": 4,
 "nbformat_minor": 5
}
