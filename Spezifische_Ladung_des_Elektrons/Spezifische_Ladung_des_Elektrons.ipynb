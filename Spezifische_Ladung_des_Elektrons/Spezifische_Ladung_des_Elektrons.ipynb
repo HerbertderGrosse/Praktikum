{
 "cells": [
  {
   "cell_type": "markdown",
   "id": "f4ab06b9-a11e-4f8f-8338-5f97949393e2",
   "metadata": {},
   "source": [
    "<img src=\"./figures/Logo_KIT.svg\" width=200px style=\"float:right;\" />\n",
    "\n",
    "# Fakultät für Physik \n",
    "\n",
    "## Physikalisches Praktikum P1 für Studierende der Physik\n",
    "\n",
    "Versuch P1-71, 72, 73 (Stand: Dezember 2022)\n",
    "\n",
    "[Raum F1-14](http://www-ekp.physik.uni-karlsruhe.de/~simonis/praktikum/layoutobjekte/Lageplan_P1.png)\n",
    "\n",
    "# Spezifische Ladung des Elektrons"
   ]
  },
  {
   "cell_type": "markdown",
   "id": "aeec2d20-8f00-401e-b382-fbe13679ad32",
   "metadata": {},
   "source": [
    "Name: __________________ Vorname: __________________ E-Mail: __________________\n",
    "\n",
    "\\begin{equation*}\n",
    "\\begin{split}\n",
    "&\\\\\n",
    "&\\\\\n",
    "\\end{split}\n",
    "\\end{equation*}\n",
    "\n",
    "Name: __________________ Vorname: __________________ E-Mail: __________________\n",
    "\n",
    "\\begin{equation*}\n",
    "\\begin{split}\n",
    "&\\\\\n",
    "&\\\\\n",
    "&\\\\\n",
    "\\end{split}\n",
    "\\end{equation*}\n",
    "\n",
    "Gruppennummer: _____\n",
    "\n",
    "\\begin{equation*}\n",
    "\\begin{split}\n",
    "&\\\\\n",
    "&\\\\\n",
    "&\\\\\n",
    "\\end{split}\n",
    "\\end{equation*}\n",
    "\n",
    "\n",
    "Betreuer: __________________\n",
    "\n",
    "\\begin{equation*}\n",
    "\\begin{split}\n",
    "&\\\\\n",
    "&\\\\\n",
    "&\\\\\n",
    "\\end{split}\n",
    "\\end{equation*}\n",
    "\n",
    "Versuch durchgeführt am: __________________"
   ]
  },
  {
   "cell_type": "markdown",
   "id": "6ece3d51-4310-4eb2-aa39-c505de9e4d39",
   "metadata": {},
   "source": [
    "---\n",
    "\n",
    "**Beanstandungen:**\n",
    "\n",
    "\\begin{equation*}\n",
    "\\begin{split}\n",
    "&\\\\\n",
    "&\\\\\n",
    "&\\\\\n",
    "&\\\\\n",
    "&\\\\\n",
    "&\\\\\n",
    "&\\\\\n",
    "&\\\\\n",
    "&\\\\\n",
    "&\\\\\n",
    "\\end{split}\n",
    "%\\text{\\vspace{10cm}}\n",
    "\\end{equation*}\n",
    "\n",
    "<br>\n",
    "Testiert am: __________________ Testat: __________________"
   ]
  },
  {
   "cell_type": "markdown",
   "id": "797f3561-dc46-47f7-8aed-044d8f1a9bc1",
   "metadata": {},
   "source": [
    "# Durchführung\n",
    "\n",
    "## Aufgabe 1: Fadenstrahlrohr\n",
    "\n",
    "**Hinweise zu allen hier durchzuführenden Messungen finden Sie in der Datei [Hinweise-Aufgabe-1.md](https://git.scc.kit.edu/etp-lehre/p1-for-students/-/blob/main/Spezifische_Lading_des_Elektrons/doc/Hinweise-Aufgabe-1.md).**\n",
    "\n",
    "### Aufgabe 1.1: Magnetfeld im Fadenstrahlrohr\n",
    "\n",
    " * Schätzen Sie das Magnetfeld $B$, entlang der Mittelebene zwischen $H_{1}$ und $H_{2}$ im Inneren der Spulen, mit Hilfe einer baugleichen, weiteren Helmholtzspule $H_{3}$, einer, an verschiedenen Stellen mit Bohrungen versehenen, Holzplatte $M$, und einer [Hall-Sonde](https://de.wikipedia.org/wiki/Hall-Effekt) ab. Dabei bezeichnet $r$ im Folgenden den Abstand von der Symmetrieachse des Spulenpaares.\n",
    " * Kalibrieren Sie die Hall-Sonde mit Hilfe einer weiteren, langen Spule, deren Magnetfeld Sie über das [Ampèresche Gesetz](https://de.wikipedia.org/wiki/Amp%C3%A8resches_Gesetz#Magnetfeld_der_Spule) bestimmen können.\n",
    " * Diskutieren Sie die Homogenität von $B(r)$ für die vorliegende Spulenanordnung. \n",
    " * Vergleichen Sie Ihre Messung für $r=0$ mit Ihrer Erwartung. \n",
    " \n",
    "---"
   ]
  },
  {
   "cell_type": "markdown",
   "id": "a70469f3-b426-4615-9015-b5910819ed0d",
   "metadata": {},
   "source": [
    "**Lösung:**\n",
    "\n",
    "*Sie können Ihr Protokoll direkt in dieses Dokument einfügen. Wenn Sie dieses Dokument als Grundlage für ein [Jupyter notebook](https://jupyter.org/) verwenden wollen können Sie die Auswertung, Skripte und ggf. bildliche Darstellungen mit Hilfe von [python](https://www.python.org/) ebenfalls hier einfügen. Löschen Sie hierzu diesen kursiv gestellten Text aus dem Dokument.* \n",
    "\n",
    "---"
   ]
  },
  {
   "cell_type": "markdown",
   "id": "8d146d2a-6a8e-4f8e-9aaa-57b5db98747d",
   "metadata": {},
   "source": [
    "### Aufgabe 1.2: Elektronenkreisbahn\n",
    "\n",
    "Bestimmen Sie den Durchmesser $d$ der Elektronenbahn im Fadenstrahlrohr in zwei Messreihen: \n",
    "\n",
    " * Als als Funktion der Anodenspannung $U$ (z.B. mit sechs Messpunkten  $100$; $125$; $\\ldots 250\\,\\mathrm{V}$) für zwei Spulenströme (z.B. $1\\,\\mathrm{A}$ und $2\\,\\mathrm{A}$).\n",
    " * Als Funktion des Spulenstroms $I$ (z.B. mit zehn Messpunkten $1,0$; $1,2$; $\\ldots 2,0\\,\\mathrm{A}$) für zwei Anodenspannungen (z.B. $125\\,\\mathrm{V}$ und $250\\,\\mathrm{V}$).\n",
    " \n",
    "---"
   ]
  },
  {
   "cell_type": "markdown",
   "id": "9c782c13-88c1-440f-ac86-8edee3c279aa",
   "metadata": {},
   "source": [
    "**Lösung:**\n",
    "\n",
    "*Sie können Ihr Protokoll direkt in dieses Dokument einfügen. Wenn Sie dieses Dokument als Grundlage für ein [Jupyter notebook](https://jupyter.org/) verwenden wollen können Sie die Auswertung, Skripte und ggf. bildliche Darstellungen mit Hilfe von [python](https://www.python.org/) ebenfalls hier einfügen. Löschen Sie hierzu diesen kursiv gestellten Text aus dem Dokument.* \n",
    "\n",
    "---"
   ]
  },
  {
   "cell_type": "markdown",
   "id": "af6dc556-267d-433d-8533-f0bc7c491af1",
   "metadata": {},
   "source": [
    "## Aufgabe 2: Methode von Busch\n",
    "\n",
    "**Hinweise zu allen hier durchzuführenden Messungen finden Sie in der Datei [Hinweise-Aufgabe-2.md](https://git.scc.kit.edu/etp-lehre/p1-for-students/-/blob/main/Spezifische_Lading_des_Elektrons/doc/Hinweise-Aufgabe-2.md).**\n",
    "\n",
    "### Aufgabe 2.1: Vorbereitung der Messung\n",
    "\n",
    "Machen Sie sich mit der Methode zur Bestimmung der von $e/m_{e}$ nach der Methode von Busch vertraut. Verändern Sie hierzu bei vorgegebener Beschleunigungsspannung $U_{z}$ den Spulenstrom, und erklären Sie Ihre Beobachtungen mit eigenen Worten.\n",
    "\n",
    "---"
   ]
  },
  {
   "cell_type": "markdown",
   "id": "6d0f29aa-cb30-42a6-b55e-17796335b6a7",
   "metadata": {},
   "source": [
    "**Lösung:**\n",
    "\n",
    "*Sie können Ihr Protokoll direkt in dieses Dokument einfügen. Wenn Sie dieses Dokument als Grundlage für ein [Jupyter notebook](https://jupyter.org/) verwenden wollen können Sie die Auswertung, Skripte und ggf. bildliche Darstellungen mit Hilfe von [python](https://www.python.org/) ebenfalls hier einfügen. Löschen Sie hierzu diesen kursiv gestellten Text aus dem Dokument.* \n",
    "\n",
    "---"
   ]
  },
  {
   "cell_type": "markdown",
   "id": "382bfc3e-af4f-4a66-aaa9-9f84e27795d3",
   "metadata": {},
   "source": [
    "### Aufgabe 2.2: Bestimmung von $e/m_{\\mathrm{e}}$ \n",
    "\n",
    "Messen Sie für Beschleunigungsspannungen von $U = 200\\,\\ldots 700\\,\\mathrm{V}$ (in Schritten von $50\\,\\mathrm{V}$) den nötigen Spulenstrom $I$, um auf dem Schirm einen Signalpunkt zu erzeugen. Gehen Sie dabei, für jeden Messpunkt so, wie in Aufgabe 2.1 vor. Tragen Sie $U$ geeignet über $I^{2}$ auf und ermitteln Sie daraus $e/m_{\\mathrm{e}}$. \n",
    "\n",
    "---"
   ]
  },
  {
   "cell_type": "markdown",
   "id": "14a53bfd-8d40-4490-af83-6e41642e5528",
   "metadata": {},
   "source": [
    "**Lösung:**\n",
    "\n",
    "*Sie können Ihr Protokoll direkt in dieses Dokument einfügen. Wenn Sie dieses Dokument als Grundlage für ein [Jupyter notebook](https://jupyter.org/) verwenden wollen können Sie die Auswertung, Skripte und ggf. bildliche Darstellungen mit Hilfe von [python](https://www.python.org/) ebenfalls hier einfügen. Löschen Sie hierzu diesen kursiv gestellten Text aus dem Dokument.* \n",
    "\n",
    "---"
   ]
  }
 ],
 "metadata": {
  "kernelspec": {
   "display_name": "Python 3 (ipykernel)",
   "language": "python",
   "name": "python3"
  },
  "language_info": {
   "codemirror_mode": {
    "name": "ipython",
    "version": 3
   },
   "file_extension": ".py",
   "mimetype": "text/x-python",
   "name": "python",
   "nbconvert_exporter": "python",
   "pygments_lexer": "ipython3",
   "version": "3.10.12"
  }
 },
 "nbformat": 4,
 "nbformat_minor": 5
}
