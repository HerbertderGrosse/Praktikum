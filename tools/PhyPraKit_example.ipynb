{
 "cells": [
  {
   "cell_type": "markdown",
   "id": "63928e93-14b9-4c8a-ae93-bbc59b63971c",
   "metadata": {},
   "source": [
    "# Verwendung der Skripte von PhyPraKit auf dem Jupyter-server \n",
    "\n",
    "Die folgenden Beispiele demonstrieren, wie Sie die wichtigsten Skripte der Skripten-Sammlung [PhyPraKit](https://etpwww.etp.kit.edu/~quast/PhyPraKit/htmldoc/) aus der Konsole des Jupyter-servers oder direkt aus einer Code-Zelle eines Jupyter-notebooks aufrufen. \n",
    "\n",
    "Skripte, die Ihnen nützlich sein können sind: \n",
    "\n",
    "- `run_phyFit.py`: Dieses Skript erlaubt es Ihnen Anpassungen von Modellen an Ihre Messdaten vorzunehmen;\n",
    "- `plotData.py`: Dieses Skript erlaubt es Ihnen Ihre Datenpunkte (mit Unsicherheiten) darzustellen;\n",
    "- `plotCSV.py`: Dieses Skript erlaubt es Ihnen Datenpunkte, die im [csv](https://de.wikipedia.org/wiki/CSV_(Dateiformat))-Format vorliegen graphisch darzustellen;\n",
    "- `csv2yaml.py`: Dieses Skript erlaubt es Ihnen Daten, die im csv-Format vorliegen ins *yaml*-Format zu übersetzen, so dass Sie sie für die oben angeführten Skripte verwenden können. \n",
    "\n",
    "Sie können grundsätzlich jedes dieser Skripte mit der Option `--help` aufrufen, um mehr über die genau Verwendung zu erfahren. Aus der Konsole würde die Verwendung z.B. so aussehen: \n",
    "\n",
    "```\n",
    "h4515@jupyter-ph4515:~/p1-for-students$ run_phyFit.py --help\n",
    "usage: run_phyFit.py [-h] [-v] [-r] [-n] [-s] [-c] [--noband] [-f FORMAT] filename [filename ...]\n",
    "\n",
    "Perform a fit with PhyPraKit.phyFit package driven by input file\n",
    "\n",
    "positional arguments:\n",
    "  filename              name(s) of fit input file(s) in yaml format\n",
    "\n",
    "options:\n",
    "  -h, --help            show this help message and exit\n",
    "  -v, --verbose         full printout to screen\n",
    "  -r, --result_to_file  store results to file\n",
    "  -n, --noplot          suppress ouput of plots on screen\n",
    "  -s, --saveplot        save plot(s) in file(s)\n",
    "  -c, --contour         plot contours and profiles\n",
    "  --noband              suppress 1-sigma band around function\n",
    "  -f FORMAT, --format FORMAT\n",
    "                        graphics output format, default=pdf\n",
    "```\n",
    "\n",
    "In der Konsole können Sie jedes der oben aufgeführten Skripte mit Hilfe der sog. *Tab-completion* vervollständigen. Der Aufruf des Skripts `run_phyFit.py` z.B. mit dieser [`yaml`-Datei](https://git.scc.kit.edu/etp-lehre/p1-for-students/-/blob/main/tools/PhyPraKit_example.yaml) sieht wie folgt aus: \n",
    "\n",
    "```\n",
    "run_phyFit.py tools/PhyPraKit_example.yaml\n",
    "```\n",
    "\n",
    "Beachten Sie in diesem Fall die Optionen `--format`und `-s`zum speichern der graphischen Darstellung im gewünschten Format. \n",
    "\n",
    "Sie können die Skripte auch aus der Code-Zelle des Jupyter-notebooks aufrufen. Hierzu können Sie das Jupyter-notebook [Magic command](https://ipython.readthedocs.io/en/stable/interactive/magics.html) `%run` verwenden. In diesem Fall ist es allerdings notwendig den vollen Pfad zum entsprechenden Skript (`/opt/conda/bin/`), der für alle Skripte gleich ist, anzugeben. \n",
    "\n",
    "Sie finden ein Beispiel für den Aufruf des Skripts `run_phyFit.py`mit der oben angegebenen [`yaml`-Datei](https://git.scc.kit.edu/etp-lehre/p1-for-students/-/blob/main/tools/PhyPraKit_example.yaml) im Folgenden: "
   ]
  },
  {
   "cell_type": "code",
   "execution_count": null,
   "id": "7a5c1812-b76e-424d-89fc-698d5509a5af",
   "metadata": {},
   "outputs": [],
   "source": [
    "%run /opt/conda/bin/run_phyFit.py PhyPraKit_example.yaml"
   ]
  }
 ],
 "metadata": {
  "kernelspec": {
   "display_name": "Python 3 (ipykernel)",
   "language": "python",
   "name": "python3"
  },
  "language_info": {
   "codemirror_mode": {
    "name": "ipython",
    "version": 3
   },
   "file_extension": ".py",
   "mimetype": "text/x-python",
   "name": "python",
   "nbconvert_exporter": "python",
   "pygments_lexer": "ipython3",
   "version": "3.10.6"
  }
 },
 "nbformat": 4,
 "nbformat_minor": 5
}
