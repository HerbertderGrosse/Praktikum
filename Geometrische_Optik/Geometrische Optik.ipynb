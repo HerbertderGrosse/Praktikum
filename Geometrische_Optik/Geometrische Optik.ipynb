{
 "cells": [
  {
   "cell_type": "markdown",
   "id": "61e61a89-5383-458c-b390-c77b2e6a1817",
   "metadata": {},
   "source": [
    "# Fakultät für Physik \n",
    "\n",
    "## Physikalisches Praktikum P1 für Studierende der Physik\n",
    "\n",
    "Versuch P1-40, 41, 42 (Stand: August 2023)\n",
    "\n",
    "[Raum F1-13](https://labs.physik.kit.edu/img/Praktikum/Lageplan_P1.png)\n",
    "\n",
    "# Geometrische Optik"
   ]
  },
  {
   "cell_type": "markdown",
   "id": "74f26ddd-9f4d-4234-86ed-b3c46d8c8d20",
   "metadata": {},
   "source": [
    "Name: __________________ Vorname: __________________ E-Mail: __________________\n",
    "\n",
    "\\begin{equation*}\n",
    "\\begin{split}\n",
    "&\\\\\n",
    "&\\\\\n",
    "\\end{split}\n",
    "\\end{equation*}\n",
    "\n",
    "Name: __________________ Vorname: __________________ E-Mail: __________________\n",
    "\n",
    "\\begin{equation*}\n",
    "\\begin{split}\n",
    "&\\\\\n",
    "&\\\\\n",
    "&\\\\\n",
    "\\end{split}\n",
    "\\end{equation*}\n",
    "\n",
    "Gruppennummer: _____\n",
    "\n",
    "\\begin{equation*}\n",
    "\\begin{split}\n",
    "&\\\\\n",
    "&\\\\\n",
    "&\\\\\n",
    "\\end{split}\n",
    "\\end{equation*}\n",
    "\n",
    "\n",
    "Betreuer: __________________\n",
    "\n",
    "\\begin{equation*}\n",
    "\\begin{split}\n",
    "&\\\\\n",
    "&\\\\\n",
    "&\\\\\n",
    "\\end{split}\n",
    "\\end{equation*}\n",
    "\n",
    "Versuch durchgeführt am: __________________"
   ]
  },
  {
   "cell_type": "markdown",
   "id": "e0fcd1b9-7e75-499e-a23b-22a8f3f9607d",
   "metadata": {},
   "source": [
    "---\n",
    "\n",
    "**Beanstandungen:**\n",
    "\n",
    "\\begin{equation*}\n",
    "\\begin{split}\n",
    "&\\\\\n",
    "&\\\\\n",
    "&\\\\\n",
    "&\\\\\n",
    "&\\\\\n",
    "&\\\\\n",
    "&\\\\\n",
    "&\\\\\n",
    "&\\\\\n",
    "&\\\\\n",
    "\\end{split}\n",
    "%\\text{\\vspace{10cm}}\n",
    "\\end{equation*}\n",
    "\n",
    "<br>\n",
    "Testiert am: __________________ Testat: __________________"
   ]
  },
  {
   "cell_type": "markdown",
   "id": "843bdceb-b7c2-412a-afa5-2d97254c0dc6",
   "metadata": {},
   "source": [
    "# Durchführung\n",
    "\n",
    "## Aufgabe 1: Bestimmung der Brennweite einer einzelnen Linse\n",
    "\n",
    "### Aufgabe 1.1: Naive Bestimmung von $f$\n",
    "\n",
    "- Bestimmen Sie, mit Hilfe eines Maßstabs und eines Schirms, die ungefähr angegebene Brennweite $f$ einer dünnen Sammellinse, die Sie aus dem Ihnen zur Verfügung stehenden Sortiment auswählen können. \n",
    "- Fertigen Sie zur Vorbereitung einen Strahlengang (einschließlich Lichtquelle) an und fügen Sie diesen ihrer Auswertung bei. \n",
    "- Beantworten Sie in Ihrer Auswertung die folgende Frage:\n",
    "    - Wie ist sicher gestellt, dass die einfallenden Strahlen der Lichtquelle parallel in die Linse einfallen?\n",
    "\n",
    "---"
   ]
  },
  {
   "cell_type": "markdown",
   "id": "b22efea5-2cc5-4fe5-b670-1424dae4b1f4",
   "metadata": {},
   "source": [
    "**Lösung:**\n",
    "\n",
    "*Sie können Ihr Protokoll direkt in dieses Dokument einfügen. Wenn Sie dieses Dokument als Grundlage für ein [Jupyter notebook](https://jupyter.org/) verwenden wollen können Sie die Auswertung, Skripte und ggf. bildliche Darstellungen mit Hilfe von [python](https://www.python.org/) ebenfalls hier einfügen. Löschen Sie hierzu diesen kursiv gestellten Text aus dem Dokument.* \n",
    "\n",
    "---"
   ]
  },
  {
   "cell_type": "markdown",
   "id": "2714c1d3-c6e6-400d-af74-1e76f52ac607",
   "metadata": {},
   "source": [
    "### Aufgabe 1.2: Bestimmung von $f$ mit Hilfe des [Bessel-Verfahrens](https://de.wikipedia.org/wiki/Bessel-Verfahren)\n",
    "\n",
    "- Bestimmen Sie die Brennweite $f$ der gleichen Linse mit Hilfe des [Bessel-Verfahrens](https://de.wikipedia.org/wiki/Bessel-Verfahren). \n",
    "- Beantworten Sie in Ihrer Auswertung die folgenden Fragen: \n",
    "   - Warum muss der Abstsand zwischen Gegenstand $G$ und Schirm $a>4\\,f$ sein? \n",
    "   - Wie ändert sich Ihre Messanordnung, wenn Sie $a$ vergrößern? \n",
    "   - Warum kann es von Nachteil sein, wenn Sie das Verhältnis $a:f$ zu groß wählen?\n",
    "   - Warum ist beim Bessel-Verfahren $B$ einmal kleiner und einmal gößer als $G$?\n",
    "\n",
    "---"
   ]
  },
  {
   "cell_type": "markdown",
   "id": "59d391d6-138f-4225-867b-7dea5efc4141",
   "metadata": {},
   "source": [
    "**Lösung:**\n",
    "\n",
    "*Sie können Ihr Protokoll direkt in dieses Dokument einfügen. Wenn Sie dieses Dokument als Grundlage für ein [Jupyter notebook](https://jupyter.org/) verwenden wollen können Sie die Auswertung, Skripte und ggf. bildliche Darstellungen mit Hilfe von [python](https://www.python.org/) ebenfalls hier einfügen. Löschen Sie hierzu diesen kursiv gestellten Text aus dem Dokument.* \n",
    "\n",
    "---"
   ]
  },
  {
   "cell_type": "markdown",
   "id": "d2923da1-2d93-4d6e-9f1a-efe6fd5737d4",
   "metadata": {},
   "source": [
    "### Aufgabe 1.3: Sphärische und chromatisch Abberation\n",
    "\n",
    "Untersuchen Sie die sphärische und chromatische [Aberration](https://de.wikipedia.org/wiki/Abbildungsfehler) der Linse aus Aufgabw 1.2. \n",
    "\n",
    "---"
   ]
  },
  {
   "cell_type": "markdown",
   "id": "eefd39f1-4fa5-4e3a-8e85-7fa4ebc2ca98",
   "metadata": {},
   "source": [
    "**Lösung:**\n",
    "\n",
    "*Sie können Ihr Protokoll direkt in dieses Dokument einfügen. Wenn Sie dieses Dokument als Grundlage für ein [Jupyter notebook](https://jupyter.org/) verwenden wollen können Sie die Auswertung, Skripte und ggf. bildliche Darstellungen mit Hilfe von [python](https://www.python.org/) ebenfalls hier einfügen. Löschen Sie hierzu diesen kursiv gestellten Text aus dem Dokument.* \n",
    "\n",
    "---"
   ]
  },
  {
   "cell_type": "markdown",
   "id": "e8b9009f-5da7-4d9a-b383-45750e58c55b",
   "metadata": {},
   "source": [
    "## Aufgabe 2: Vermessung eines Zweilinsensystems\n",
    "\n",
    "### Aufgabe 2.1: Bestimmung von $f$, und der Lage der Hauptebenen $H_{1}$ und $H_{2}$ \n",
    "\n",
    "Bestimmen Sie, mit Hilfe des [Abbe-Verfahrens](https://de.wikipedia.org/wiki/Abbe-Verfahren), für einen gegebenen Abstand $d$ der Linsen des im Messingrohr montierten Zweilinsensystems $L$ die Brennweite $f$, sowie die Lage der Hauptebenen $H_{1}$ und $H_{2}$, gemessen von einem Bezugspunkt $X$ auf der optischen Achse von $L$, genau zwischen den beiden Linsen. \n",
    "\n",
    "### Aufgabe 2.2\n",
    "\n",
    "Wiederholen Sie die Messung aus Aufgabe 2.1 für für **mindestens zwei weitere** Werte für $d$. Bestimmen Sie aus den ermittelten Werten von $f$ für die verschiedenen Werte von $d$ die Brennweiten $f_{1}$ und $f_{2}$ der einzelnen Linsen.\n",
    "\n",
    "---"
   ]
  },
  {
   "cell_type": "markdown",
   "id": "ed25768d-e2cf-42ce-b24f-287cbd35eb85",
   "metadata": {},
   "source": [
    "**Lösung:**\n",
    "\n",
    "*Sie können Ihr Protokoll direkt in dieses Dokument einfügen. Wenn Sie dieses Dokument als Grundlage für ein [Jupyter notebook](https://jupyter.org/) verwenden wollen können Sie die Auswertung, Skripte und ggf. bildliche Darstellungen mit Hilfe von [python](https://www.python.org/) ebenfalls hier einfügen. Löschen Sie hierzu diesen kursiv gestellten Text aus dem Dokument.* \n",
    "\n",
    "---"
   ]
  },
  {
   "cell_type": "markdown",
   "id": "aabf6258-c811-4b99-9931-b4c799559cb3",
   "metadata": {},
   "source": [
    "## Aufgabe 3: Aufbau optischer Instrumente\n",
    "\n",
    "Im Rahmen dieser Aufgabe bauen Sie einige z.T. historische optische Geräte auf der kleinen optischen Bank nach und überprüfen ihre Eigenschaften. Überlegen Sie sich im Vorfeld des Versuchs welche optischen Bauelemente Sie für den Bau des entsprechenden Geräts benötigen und wie diese anzuordnen sind. **Zeichnen Sie für jedes der Geräte einen entsprechenden Strahlengang**, der im Fall von Aufgabe 2.3 die Lichtquelle beinhalten sollte. Machen Sie sich bereits in der Vorbereitung auf diesen Versuch mit den entsprechenden Strahlengängen vertraut. \n",
    "\n",
    "Es genügt, wenn Sie zwei aus den unten vorgeschlagenen Instrumente auswählen.\n",
    "\n",
    "### Aufgabe 3.1: [Keplersches (astronomisches) Fernrohr](https://de.wikipedia.org/wiki/Fernrohr#Kepler-Fernrohr)\n",
    "\n",
    "Bauen Sie ein Keplersches (astronomisches) Fernrohr mit mindestens 6-facher Vergrößerung und betrachten Sie damit entfernte Gegenstände. Messen Sie auf einfache Weise die Vergrößerung und vergleichen Sie sie mit dem von Ihnen erwarteten Wert.\n",
    "\n",
    "### Aufgabe 3.2: [Galileisches Fernrohr](https://de.wikipedia.org/wiki/Fernrohr#Galilei-Fernrohr)\n",
    "\n",
    "Bauen Sie ein Galileisches Fernrohr mit gleicher Vergößerung, wie in Aufgabe 3.1 und überprüfen Sie seine Funktion analog zu Aufgabe 3.1.\n",
    "\n",
    "### Aufgabe 3.3: [Projektor](https://de.wikipedia.org/wiki/Projektor)\n",
    "\n",
    "Bauen Sie einen Projektor, der $24\\times36\\,\\mathrm{mm}^{2}$-Diapositive ausleuchtet und in etwa $1,5\\,\\mathrm{m}$ Entfernung eine etwa 10-fache Vergrößerung aufweist. Projizieren Sie Diapositive und vergleichen Sie das Ergebnis mit Ihrer Erwartung.\n",
    "\n",
    "### Aufgabe 3.4: [Mikroskop](https://de.wikipedia.org/wiki/Mikroskop)\n",
    "\n",
    "Bauen Sie ein Mikroskop mit mindestens 20-facher Vergrößerung und vergleichen Sie die näherungsweise gemessene Vergrößerung mit dem berechneten Wert. Beantworten Sie die folgende Frage: Warum macht es keinen Sinn, bei einem Mikroskop die Vergrößerung durch Einsatz von Linsen mit immer kleineren Brennweiten in der Hoffnung zu steigern, dann auch eine immer bessere Auflösung zu erreichen?\n",
    "\n",
    "---"
   ]
  },
  {
   "cell_type": "markdown",
   "id": "55099422-31cc-4383-93ca-ec4f83f1f8b2",
   "metadata": {},
   "source": [
    "**Lösung:**\n",
    "\n",
    "*Sie können Ihr Protokoll direkt in dieses Dokument einfügen. Wenn Sie dieses Dokument als Grundlage für ein [Jupyter notebook](https://jupyter.org/) verwenden wollen können Sie die Auswertung, Skripte und ggf. bildliche Darstellungen mit Hilfe von [python](https://www.python.org/) ebenfalls hier einfügen. Löschen Sie hierzu diesen kursiv gestellten Text aus dem Dokument.* \n",
    "\n",
    "---"
   ]
  }
 ],
 "metadata": {
  "kernelspec": {
   "display_name": "Python 3 (ipykernel)",
   "language": "python",
   "name": "python3"
  },
  "language_info": {
   "codemirror_mode": {
    "name": "ipython",
    "version": 3
   },
   "file_extension": ".py",
   "mimetype": "text/x-python",
   "name": "python",
   "nbconvert_exporter": "python",
   "pygments_lexer": "ipython3",
   "version": "3.10.12"
  }
 },
 "nbformat": 4,
 "nbformat_minor": 5
}
